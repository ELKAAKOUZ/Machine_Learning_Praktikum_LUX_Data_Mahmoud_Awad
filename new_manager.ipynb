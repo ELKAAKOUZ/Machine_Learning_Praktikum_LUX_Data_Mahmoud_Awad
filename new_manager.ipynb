{
 "cells": [
  {
   "cell_type": "code",
   "execution_count": 2,
   "metadata": {},
   "outputs": [],
   "source": [
    "import pandas as pd\n",
    "import numpy as np\n",
    "import torch\n",
    "import torch.nn as nn\n",
    "from sklearn.model_selection import train_test_split\n",
    "from sklearn.metrics import f1_score, roc_auc_score, roc_curve, auc\n",
    "from sklearn.preprocessing import StandardScaler, label_binarize\n",
    "import matplotlib.pyplot as plt\n"
   ]
  },
  {
   "cell_type": "code",
   "execution_count": 3,
   "metadata": {},
   "outputs": [],
   "source": [
    "lux_train = pd.read_csv('lux_train.csv')\n",
    "lux_val = pd.read_csv('lux_val.csv')\n",
    "lux_test = pd.read_csv('lux_test.csv')\n"
   ]
  },
  {
   "cell_type": "code",
   "execution_count": 5,
   "metadata": {},
   "outputs": [
    {
     "name": "stdout",
     "output_type": "stream",
     "text": [
      "2310000\n",
      "826250\n",
      "1620000\n"
     ]
    }
   ],
   "source": [
    "print(len(lux_train))\n",
    "print(len(lux_val))\n",
    "print(len(lux_test))"
   ]
  },
  {
   "cell_type": "code",
   "execution_count": 29,
   "metadata": {},
   "outputs": [],
   "source": [
    "#splitting data,labels\n",
    "y_train = lux_train[\"target\"].values\n",
    "lux_train.drop(\"target\", axis=1, inplace=True)\n",
    "\n",
    "y_valid = lux_val[\"target\"].values\n",
    "lux_val.drop(\"target\", axis=1, inplace=True)\n",
    "\n",
    "y_test = lux_test[\"target\"].values\n",
    "lux_test.drop(\"target\", axis=1, inplace=True)\n",
    "\n",
    "# Scaling data\n",
    "scaler = StandardScaler()\n",
    "x_train = scaler.fit_transform(lux_train)\n",
    "x_valid = scaler.transform(lux_val)\n",
    "x_test = scaler.transform(lux_test)\n",
    "\n",
    "# Convert to PyTorch tensors\n",
    "x_train = torch.tensor(x_train, dtype=torch.float32)\n",
    "x_valid = torch.tensor(x_valid, dtype=torch.float32)\n",
    "x_test = torch.tensor(x_test, dtype=torch.float32)\n",
    "\n",
    "y_train = torch.tensor(y_train, dtype=torch.float32)  # changing dtype to float32\n",
    "y_valid = torch.tensor(y_valid, dtype=torch.float32)\n",
    "y_test = torch.tensor(y_test, dtype=torch.float32)\n"
   ]
  },
  {
   "cell_type": "code",
   "execution_count": 30,
   "metadata": {},
   "outputs": [],
   "source": [
    "import torch.utils.data as data\n",
    "\n",
    "# 1. Convert the data and labels into a dataset using TensorDataset\n",
    "train_dataset = data.TensorDataset(x_train, y_train)\n",
    "valid_dataset = data.TensorDataset(x_valid, y_valid)\n",
    "test_dataset = data.TensorDataset(x_test, y_test)\n",
    "\n",
    "# 2. Define the batch size \n",
    "batch_size = 100\n",
    "\n",
    "# 3. Create the DataLoaders\n",
    "train_loader = data.DataLoader(dataset=train_dataset, batch_size=batch_size, shuffle=True)\n",
    "valid_loader = data.DataLoader(dataset=valid_dataset, batch_size=batch_size, shuffle=False)\n",
    "test_loader = data.DataLoader(dataset=test_dataset, batch_size=batch_size, shuffle=False)\n"
   ]
  },
  {
   "cell_type": "code",
   "execution_count": 24,
   "metadata": {},
   "outputs": [
    {
     "name": "stdout",
     "output_type": "stream",
     "text": [
      "Epoch 50/1000, Loss: 8.115271696473839e-10\n",
      "Epoch 100/1000, Loss: 8.079025002368858e-10\n",
      "Epoch 150/1000, Loss: 8.236530037704469e-10\n",
      "Epoch 200/1000, Loss: 8.149564283026333e-10\n",
      "Epoch 250/1000, Loss: 8.206725342835924e-10\n",
      "Epoch 300/1000, Loss: 7.9526408877635e-10\n",
      "Epoch 350/1000, Loss: 8.14594405971444e-10\n",
      "Epoch 400/1000, Loss: 8.176671029090448e-10\n",
      "Epoch 450/1000, Loss: 8.097368804552597e-10\n",
      "Epoch 500/1000, Loss: 8.205342219389744e-10\n",
      "Epoch 550/1000, Loss: 8.14445284469868e-10\n",
      "Epoch 600/1000, Loss: 7.953339561389729e-10\n",
      "Epoch 650/1000, Loss: 7.983752184958354e-10\n",
      "Epoch 700/1000, Loss: 8.113086499743512e-10\n",
      "Epoch 750/1000, Loss: 8.157993105211791e-10\n",
      "Epoch 800/1000, Loss: 8.03848119150144e-10\n",
      "Epoch 850/1000, Loss: 8.221331252486552e-10\n",
      "Epoch 900/1000, Loss: 8.061027620544362e-10\n",
      "Epoch 950/1000, Loss: 8.080135514395569e-10\n",
      "Epoch 1000/1000, Loss: 7.985038242452119e-10\n"
     ]
    }
   ],
   "source": [
    "import torch\n",
    "import torch.nn as nn\n",
    "import torch.optim as optim\n",
    "\n",
    "# 1. Define the device for training (CPU or GPU)\n",
    "device = torch.device('cuda' if torch.cuda.is_available() else 'cpu')\n",
    "\n",
    "# 2. Neural Network Model Definition\n",
    "class FullyConnectedNN(nn.Module):\n",
    "    def __init__(self, input_size, hidden_size1, hidden_size2, num_classes):\n",
    "        super(FullyConnectedNN, self).__init__()\n",
    "        self.l1 = nn.Linear(input_size, hidden_size1)\n",
    "        self.relu1 = nn.ReLU()\n",
    "        self.l2 = nn.Linear(hidden_size1, hidden_size2)\n",
    "        self.relu2 = nn.ReLU()\n",
    "        self.l3 = nn.Linear(hidden_size2, num_classes)\n",
    "        self.dropout1=nn.Dropout(0.5)\n",
    "        self.dropout2=nn.Dropout(0.5)\n",
    "\n",
    "    def forward(self, x):\n",
    "        out = self.l1(x)\n",
    "        out = self.relu1(out)\n",
    "        out = self.dropout1(out)\n",
    "        out = self.l2(out)\n",
    "        out = self.relu2(out)\n",
    "        out = self.dropout2(out)\n",
    "        out = self.l3(out)\n",
    "        return out\n",
    "\n",
    "# 3. Model Initialization, Loss Function and Optimizer\n",
    "input_size = x_train.shape[1]\n",
    "hidden_size1 = 64\n",
    "hidden_size2 = 64\n",
    "num_classes = len(torch.unique(y_train))\n",
    "\n",
    "model = FullyConnectedNN(input_size, hidden_size1, hidden_size2, num_classes).to(device)\n",
    "criterion = nn.MSELoss()\n",
    "optimizer = optim.Adam(model.parameters(), lr=0.001)\n",
    "\n",
    "# 4. Model Training\n",
    "num_epochs = 1000\n",
    "for epoch in range(num_epochs):\n",
    "    model.train()\n",
    "    total_loss = 0\n",
    "    for i, (data, label) in enumerate(train_loader):\n",
    "        data, label = data.to(device), label.to(device)\n",
    "        \n",
    "        optimizer.zero_grad()\n",
    "        outputs = model(data)\n",
    "        loss = criterion(outputs, label.view(-1, 1))\n",
    "        loss.backward()\n",
    "        optimizer.step()\n",
    "\n",
    "        total_loss += loss.item()\n",
    "\n",
    "    # Print progress every 50 epochs\n",
    "    if (epoch+1) % 50 == 0:\n",
    "        print(f\"Epoch {epoch+1}/{num_epochs}, Loss: {total_loss / len(train_loader)}\")\n",
    "\n",
    "\n",
    "\n"
   ]
  },
  {
   "cell_type": "code",
   "execution_count": 25,
   "metadata": {},
   "outputs": [
    {
     "name": "stdout",
     "output_type": "stream",
     "text": [
      "F1 Score: 0.3185567010309278\n",
      "Balanced Accuracy: 0.5\n",
      "Recall: 0.5\n",
      "Precision: 0.23373676248108927\n"
     ]
    },
    {
     "name": "stderr",
     "output_type": "stream",
     "text": [
      "/Users/mahmoud/anaconda3/lib/python3.10/site-packages/sklearn/metrics/_classification.py:1344: UndefinedMetricWarning: Precision is ill-defined and being set to 0.0 in labels with no predicted samples. Use `zero_division` parameter to control this behavior.\n",
      "  _warn_prf(average, modifier, msg_start, len(result))\n"
     ]
    }
   ],
   "source": [
    "from sklearn.metrics import f1_score, balanced_accuracy_score, recall_score, precision_score, confusion_matrix\n",
    "\n",
    "# 5. Model Evaluation\n",
    "\n",
    "model.eval()  # set the model to evaluation mode\n",
    "\n",
    "y_true = []\n",
    "y_pred = []\n",
    "\n",
    "with torch.no_grad():\n",
    "    for data, label in valid_loader:\n",
    "        data, label = data.to(device), label.to(device)\n",
    "        \n",
    "        outputs = model(data)\n",
    "        \n",
    "        # Convert outputs to predicted classes\n",
    "        _, predicted = torch.max(outputs.data, 1)\n",
    "        \n",
    "        y_true.extend(label.cpu().numpy())\n",
    "        y_pred.extend(predicted.cpu().numpy())\n",
    "\n",
    "# Compute the metrics\n",
    "f1 = f1_score(y_true, y_pred, average='macro')\n",
    "bal_accuracy = balanced_accuracy_score(y_true, y_pred)\n",
    "recall = recall_score(y_true, y_pred, average='macro')\n",
    "precision = precision_score(y_true, y_pred, average='macro')\n",
    "\n",
    "print(f'F1 Score: {f1}')\n",
    "print(f'Balanced Accuracy: {bal_accuracy}')\n",
    "print(f'Recall: {recall}')\n",
    "print(f'Precision: {precision}')\n"
   ]
  }
 ],
 "metadata": {
  "kernelspec": {
   "display_name": "base",
   "language": "python",
   "name": "python3"
  },
  "language_info": {
   "codemirror_mode": {
    "name": "ipython",
    "version": 3
   },
   "file_extension": ".py",
   "mimetype": "text/x-python",
   "name": "python",
   "nbconvert_exporter": "python",
   "pygments_lexer": "ipython3",
   "version": "3.10.8"
  },
  "orig_nbformat": 4
 },
 "nbformat": 4,
 "nbformat_minor": 2
}
